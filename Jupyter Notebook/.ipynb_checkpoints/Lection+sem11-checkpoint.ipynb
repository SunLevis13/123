{
 "cells": [
  {
   "cell_type": "code",
   "execution_count": 1,
   "id": "8e0a4f76",
   "metadata": {},
   "outputs": [
    {
     "name": "stdout",
     "output_type": "stream",
     "text": [
      "Hello world\n"
     ]
    }
   ],
   "source": [
    "print('Hello world')"
   ]
  },
  {
   "cell_type": "code",
   "execution_count": 2,
   "id": "9d9dbe7b",
   "metadata": {},
   "outputs": [
    {
     "data": {
      "text/plain": [
       "10"
      ]
     },
     "execution_count": 2,
     "metadata": {},
     "output_type": "execute_result"
    }
   ],
   "source": [
    "x=12\n",
    "y=2\n",
    "x-y"
   ]
  },
  {
   "cell_type": "code",
   "execution_count": 3,
   "id": "747982e8",
   "metadata": {},
   "outputs": [],
   "source": [
    "h=0\n",
    "while h<10:\n",
    "    h +=1"
   ]
  },
  {
   "cell_type": "code",
   "execution_count": 4,
   "id": "7da211a6",
   "metadata": {},
   "outputs": [
    {
     "data": {
      "text/plain": [
       "2"
      ]
     },
     "execution_count": 4,
     "metadata": {},
     "output_type": "execute_result"
    }
   ],
   "source": [
    "x=2\n",
    "x"
   ]
  },
  {
   "cell_type": "code",
   "execution_count": 5,
   "id": "bdd901b5",
   "metadata": {},
   "outputs": [],
   "source": [
    "def fib(n):\n",
    "    if n<=1:\n",
    "        return 1\n",
    "    else:\n",
    "        return fib(n-1)+fib(n-2)"
   ]
  },
  {
   "cell_type": "code",
   "execution_count": 6,
   "id": "fdfe328b",
   "metadata": {},
   "outputs": [
    {
     "data": {
      "text/plain": [
       "2"
      ]
     },
     "execution_count": 6,
     "metadata": {},
     "output_type": "execute_result"
    }
   ],
   "source": [
    "fib(2)"
   ]
  },
  {
   "cell_type": "code",
   "execution_count": 7,
   "id": "6d4778c3",
   "metadata": {},
   "outputs": [
    {
     "data": {
      "text/plain": [
       "233"
      ]
     },
     "execution_count": 7,
     "metadata": {},
     "output_type": "execute_result"
    }
   ],
   "source": [
    "fib(12)"
   ]
  },
  {
   "cell_type": "code",
   "execution_count": 8,
   "id": "3e23b809",
   "metadata": {},
   "outputs": [
    {
     "data": {
      "text/plain": [
       "[1, 2, 3, 4, 5, 6, 7, 8, 9]"
      ]
     },
     "execution_count": 8,
     "metadata": {},
     "output_type": "execute_result"
    }
   ],
   "source": [
    "li=[]\n",
    "for i in range(1,10):\n",
    "    li.append(i)\n",
    "li"
   ]
  },
  {
   "cell_type": "code",
   "execution_count": 9,
   "id": "311881ba",
   "metadata": {},
   "outputs": [
    {
     "data": {
      "text/plain": [
       "[(1, 1), (2, 2), (3, 3), (4, 5), (5, 8), (6, 13), (7, 21), (8, 34), (9, 55)]"
      ]
     },
     "execution_count": 9,
     "metadata": {},
     "output_type": "execute_result"
    }
   ],
   "source": [
    "fibs = [(n,fib(n)) for n in range (1,10)]\n",
    "fibs"
   ]
  },
  {
   "cell_type": "code",
   "execution_count": 10,
   "id": "c5df7c38",
   "metadata": {},
   "outputs": [],
   "source": [
    "from math import sqrt\n",
    "def solve(a,b,c):\n",
    "    d=b**2-4*a*c\n",
    "    if d >= 0:\n",
    "        x1 = (-b + sqrt(d))/(2*a)\n",
    "        x2 = (-b - sqrt(d))/(2*a)\n",
    "        return(x1,x2)\n",
    "    else:\n",
    "        return 'Вещественных корней нет'"
   ]
  },
  {
   "cell_type": "code",
   "execution_count": 11,
   "id": "270ecb16",
   "metadata": {},
   "outputs": [
    {
     "data": {
      "text/plain": [
       "(0.0, -0.25)"
      ]
     },
     "execution_count": 11,
     "metadata": {},
     "output_type": "execute_result"
    }
   ],
   "source": [
    "solve(0.5,0.125,0)"
   ]
  },
  {
   "cell_type": "code",
   "execution_count": 12,
   "id": "0fb15f5a",
   "metadata": {},
   "outputs": [
    {
     "data": {
      "text/plain": [
       "'Вещественных корней нет'"
      ]
     },
     "execution_count": 12,
     "metadata": {},
     "output_type": "execute_result"
    }
   ],
   "source": [
    "solve(1,2,3)"
   ]
  },
  {
   "cell_type": "code",
   "execution_count": 13,
   "id": "ff883b71",
   "metadata": {},
   "outputs": [
    {
     "data": {
      "text/plain": [
       "((1+2j), (3+5j))"
      ]
     },
     "execution_count": 13,
     "metadata": {},
     "output_type": "execute_result"
    }
   ],
   "source": [
    "z1 = complex(1,2)\n",
    "z2 = complex(3,5)\n",
    "z1,z2"
   ]
  },
  {
   "cell_type": "code",
   "execution_count": 14,
   "id": "4be45f6b",
   "metadata": {},
   "outputs": [
    {
     "data": {
      "text/plain": [
       "'z1 = (2.0,3.0)'"
      ]
     },
     "execution_count": 14,
     "metadata": {},
     "output_type": "execute_result"
    }
   ],
   "source": [
    "'z1 = ({},{})'.format(z1.imag,z2.real)"
   ]
  },
  {
   "cell_type": "code",
   "execution_count": 15,
   "id": "2ed76922",
   "metadata": {},
   "outputs": [],
   "source": [
    "import cmath\n",
    "def csolve(a,b,c):\n",
    "    d = b**2 - 4*a*c\n",
    "    x1 = (-b + cmath.sqrt(d))/(2*a)\n",
    "    x2 = (-b - cmath.sqrt(d))/(2*a)\n",
    "    return(x1,x2)"
   ]
  },
  {
   "cell_type": "code",
   "execution_count": 16,
   "id": "7f5eb2a2",
   "metadata": {},
   "outputs": [
    {
     "data": {
      "text/plain": [
       "((-1+2j), (-1-2j))"
      ]
     },
     "execution_count": 16,
     "metadata": {},
     "output_type": "execute_result"
    }
   ],
   "source": [
    "csolve(1,2,5)"
   ]
  },
  {
   "cell_type": "code",
   "execution_count": 17,
   "id": "1e8b9f36",
   "metadata": {},
   "outputs": [
    {
     "data": {
      "text/plain": [
       "[1, 8, 27, 64]"
      ]
     },
     "execution_count": 17,
     "metadata": {},
     "output_type": "execute_result"
    }
   ],
   "source": [
    "f=lambda x: x**3\n",
    "list(map(f,range(1,5)))"
   ]
  },
  {
   "cell_type": "code",
   "execution_count": 18,
   "id": "d25a96c9",
   "metadata": {},
   "outputs": [],
   "source": [
    "import matplotlib.pyplot as plt"
   ]
  },
  {
   "cell_type": "code",
   "execution_count": 19,
   "id": "a250c913",
   "metadata": {},
   "outputs": [
    {
     "data": {
      "text/plain": [
       "2"
      ]
     },
     "execution_count": 19,
     "metadata": {},
     "output_type": "execute_result"
    }
   ],
   "source": [
    "import random\n",
    "random.randint(1,10)"
   ]
  },
  {
   "cell_type": "code",
   "execution_count": 20,
   "id": "79881b58",
   "metadata": {},
   "outputs": [
    {
     "data": {
      "text/plain": [
       "[5, 10, 9, 5, 4, 8, 10, 2, 10]"
      ]
     },
     "execution_count": 20,
     "metadata": {},
     "output_type": "execute_result"
    }
   ],
   "source": [
    "f=lambda x: random.randint(1,10)\n",
    "points = list(map(f,range(1,10)))\n",
    "points"
   ]
  },
  {
   "cell_type": "code",
   "execution_count": 21,
   "id": "6e04f52b",
   "metadata": {},
   "outputs": [
    {
     "data": {
      "image/png": "[encoded data removed]",
      "text/plain": [
       "<Figure size 432x288 with 1 Axes>"
      ]
     },
     "metadata": {
      "needs_background": "light"
     },
     "output_type": "display_data"
    }
   ],
   "source": [
    "p = plt.plot(points,'ro')"
   ]
  },
  {
   "cell_type": "code",
   "execution_count": 22,
   "id": "55a70690",
   "metadata": {},
   "outputs": [
    {
     "data": {
      "image/png": "[encoded data removed]",
      "text/plain": [
       "<Figure size 432x288 with 1 Axes>"
      ]
     },
     "metadata": {
      "needs_background": "light"
     },
     "output_type": "display_data"
    }
   ],
   "source": [
    "plt.plot(points)\n",
    "plt.show()"
   ]
  },
  {
   "cell_type": "code",
   "execution_count": 23,
   "id": "b2563e64",
   "metadata": {},
   "outputs": [
    {
     "name": "stdout",
     "output_type": "stream",
     "text": [
      "[1, 6, 3, 9, 7, 3, 10, 5, 10]\n",
      "[1, 8, 6, 10, 10, 3, 3, 8, 1]\n"
     ]
    },
    {
     "data": {
      "text/plain": [
       "[<matplotlib.lines.Line2D at 0x20a98f33610>]"
      ]
     },
     "execution_count": 23,
     "metadata": {},
     "output_type": "execute_result"
    },
    {
     "data": {
      "image/png": "[encoded data removed]",
      "text/plain": [
       "<Figure size 432x288 with 1 Axes>"
      ]
     },
     "metadata": {
      "needs_background": "light"
     },
     "output_type": "display_data"
    }
   ],
   "source": [
    "x = list(map(f,range(1,10)))\n",
    "y = list(map(f,range(1,10)))\n",
    "print (x)\n",
    "print (y)\n",
    "#маркеры: ., , , o, v, ^, <\\t, >, 1, 2, 3, 4, 8, s, p, P, *, h, H, +, x, X, D, d, |, _, \n",
    "\n",
    "plt.plot(x,y,'yD')"
   ]
  },
  {
   "cell_type": "code",
   "execution_count": 24,
   "id": "e1e94e83",
   "metadata": {},
   "outputs": [
    {
     "data": {
      "image/png": "[encoded data removed]",
      "text/plain": [
       "<Figure size 432x288 with 1 Axes>"
      ]
     },
     "metadata": {
      "needs_background": "light"
     },
     "output_type": "display_data"
    }
   ],
   "source": [
    "x = list(range(1,200))\n",
    "fx = [i*i for i in x]\n",
    "# https://matplotlib.org/stable/api/_as_gen/matplotlib.pyplot.html?highlight=pyplot#\n",
    "# https://matplotlib.org/stable/api/_as_gen/matplotlib.pyplot.axes.html#matplotlib.pyplot.axes\\n\"\n",
    "plt.axes(facecolor = 'yellow')\n",
    "plt.plot(x,fx)\n",
    "plt.show()"
   ]
  },
  {
   "cell_type": "code",
   "execution_count": 25,
   "id": "250ddf93",
   "metadata": {},
   "outputs": [
    {
     "data": {
      "image/png": "[encoded data removed]",
      "text/plain": [
       "<Figure size 432x288 with 1 Axes>"
      ]
     },
     "metadata": {
      "needs_background": "light"
     },
     "output_type": "display_data"
    }
   ],
   "source": [
    "import matplotlib.pyplot as plt\n",
    "import random\n",
    "vx = [1.0,2.0,3.0]\n",
    "vy = [1.0,2.0,1.0]\n",
    "sx = vx[0]\n",
    "sy = vy[0]\n",
    "px = []\n",
    "py = []\n",
    "for i in range (1,1000):\n",
    "    r = random.randint(0,2)\n",
    "    sx = (sx + vx[r])/2\n",
    "    sy = (sy + vy[r])/2\n",
    "    px.append(sx)\n",
    "    py.append(sy)\n",
    "plt.plot(px,py,'.')\n",
    "plt.show()"
   ]
  },
  {
   "cell_type": "code",
   "execution_count": 26,
   "id": "aeed02ac",
   "metadata": {},
   "outputs": [
    {
     "data": {
      "image/png": "[encoded data removed]",
      "text/plain": [
       "<Figure size 1080x720 with 1 Axes>"
      ]
     },
     "metadata": {
      "needs_background": "light"
     },
     "output_type": "display_data"
    }
   ],
   "source": [
    "import matplotlib.pyplot as plt\n",
    "import random\n",
    "vx = [1.0,2.0,3.0]\n",
    "vy = [1.0,2.0,1.0]\n",
    "sx = vx[0]\n",
    "sy = vy[0]\n",
    "px = []\n",
    "py = []\n",
    "for i in range (1,100000):\n",
    "    r = random.randint(0,2)\n",
    "    sx = (sx + vx[r])/2\n",
    "    sy = (sy + vy[r])/2\n",
    "    px.append(sx)\n",
    "    py.append(sy)\n",
    "    \n",
    "fig,ax = plt.subplots()\n",
    "\n",
    "# маркеры цветов 'b', 'g', 'r', 'c', 'm', 'y', 'k', 'w' , RGB: #00ff00\n",
    "ax.scatter(px,py,c='red', s=1)\n",
    "ax.set_facecolor('black')\n",
    "\n",
    "fig.set_figwidth(15)\n",
    "fig.set_figheight(10)\n",
    "\n",
    "plt.show()"
   ]
  },
  {
   "cell_type": "code",
   "execution_count": 27,
   "id": "b58bdd44",
   "metadata": {},
   "outputs": [
    {
     "name": "stdout",
     "output_type": "stream",
     "text": [
      "['1: 16%', '2: 17%', '3: 17%', '4: 17%', '5: 17%', '6: 17%']\n"
     ]
    },
    {
     "data": {
      "image/png": "[encoded data removed]",
      "text/plain": [
       "<Figure size 432x288 with 1 Axes>"
      ]
     },
     "metadata": {
      "needs_background": "light"
     },
     "output_type": "display_data"
    }
   ],
   "source": [
    "import random\n",
    "import matplotlib.pyplot as plt\n",
    "\n",
    "count = 10000\n",
    "x = list(range(1, 7))\n",
    "y = [0 for i in x]\n",
    "\n",
    "fig, ax = plt.subplots()\n",
    "\n",
    "for _ in range(count):\n",
    "    y[random.randint(0, 5)] += 1\n",
    "    \n",
    "ax.bar(x, y)\n",
    "y.sort()\n",
    "#print('{}%'.format(round((y[5] - y[0]) / count * 100, 3)))\n",
    "stat = [f'{i+1}: {round(y[i] / count * 100)}%'for i in range(0,6)]\n",
    "print(stat)\n",
    "plt.show()"
   ]
  },
  {
   "cell_type": "code",
   "execution_count": 28,
   "id": "009430e9",
   "metadata": {},
   "outputs": [],
   "source": [
    "from sympy import *\n",
    "from sympy.plotting import plot\n",
    "init_printing()"
   ]
  },
  {
   "cell_type": "code",
   "execution_count": 29,
   "id": "a62633d2",
   "metadata": {},
   "outputs": [],
   "source": [
    "x = Symbol('x')"
   ]
  },
  {
   "cell_type": "code",
   "execution_count": 30,
   "id": "17a80646",
   "metadata": {},
   "outputs": [
    {
     "data": {
      "image/png": "[encoded data removed]",
      "text/latex": [
       "$\\displaystyle x + 2022$"
      ],
      "text/plain": [
       "x + 2022"
      ]
     },
     "execution_count": 30,
     "metadata": {},
     "output_type": "execute_result"
    }
   ],
   "source": [
    "f = x + 2022\n",
    "f"
   ]
  },
  {
   "cell_type": "code",
   "execution_count": 31,
   "id": "182f8d5f",
   "metadata": {},
   "outputs": [
    {
     "data": {
      "image/png": "[encoded data removed]",
      "text/latex": [
       "$\\displaystyle 1945$"
      ],
      "text/plain": [
       "1945"
      ]
     },
     "execution_count": 31,
     "metadata": {},
     "output_type": "execute_result"
    }
   ],
   "source": [
    "f.subs(x,-77)"
   ]
  },
  {
   "cell_type": "code",
   "execution_count": 32,
   "id": "2bea340d",
   "metadata": {},
   "outputs": [
    {
     "data": {
      "image/png": "[encoded data removed]",
      "text/latex": [
       "$\\displaystyle 1812$"
      ],
      "text/plain": [
       "1812"
      ]
     },
     "execution_count": 32,
     "metadata": {},
     "output_type": "execute_result"
    }
   ],
   "source": [
    "f.subs(x,-210)"
   ]
  },
  {
   "cell_type": "code",
   "execution_count": 33,
   "id": "9732fa8e",
   "metadata": {},
   "outputs": [
    {
     "data": {
      "image/png": "[encoded data removed]",
      "text/plain": [
       "<Figure size 432x288 with 1 Axes>"
      ]
     },
     "metadata": {
      "needs_background": "light"
     },
     "output_type": "display_data"
    },
    {
     "name": "stdout",
     "output_type": "stream",
     "text": [
      "x + 2022\n"
     ]
    }
   ],
   "source": [
    "plot(f)\n",
    "print(f)"
   ]
  },
  {
   "cell_type": "code",
   "execution_count": 34,
   "id": "48d29022",
   "metadata": {},
   "outputs": [
    {
     "data": {
      "image/png": "[encoded data removed]",
      "text/plain": [
       "<Figure size 432x288 with 1 Axes>"
      ]
     },
     "metadata": {
      "needs_background": "light"
     },
     "output_type": "display_data"
    },
    {
     "name": "stdout",
     "output_type": "stream",
     "text": [
      "sin(2*x)/x\n"
     ]
    }
   ],
   "source": [
    "g = sin(x+x)/x\n",
    "plot(g)\n",
    "print(g)"
   ]
  },
  {
   "cell_type": "code",
   "execution_count": 35,
   "id": "9e640fdf",
   "metadata": {},
   "outputs": [
    {
     "data": {
      "image/png": "[encoded data removed]",
      "text/latex": [
       "$\\displaystyle x^{2}$"
      ],
      "text/plain": [
       " 2\n",
       "x "
      ]
     },
     "execution_count": 35,
     "metadata": {},
     "output_type": "execute_result"
    }
   ],
   "source": [
    "h = x**2\n",
    "h"
   ]
  },
  {
   "cell_type": "code",
   "execution_count": 36,
   "id": "20331878",
   "metadata": {},
   "outputs": [
    {
     "data": {
      "image/png": "[encoded data removed]",
      "text/plain": [
       "<Figure size 432x288 with 1 Axes>"
      ]
     },
     "metadata": {
      "needs_background": "light"
     },
     "output_type": "display_data"
    },
    {
     "data": {
      "text/plain": [
       "<sympy.plotting.plot.Plot at 0x20a9b972af0>"
      ]
     },
     "execution_count": 36,
     "metadata": {},
     "output_type": "execute_result"
    }
   ],
   "source": [
    "plot(h)"
   ]
  },
  {
   "cell_type": "code",
   "execution_count": 37,
   "id": "f7819977",
   "metadata": {},
   "outputs": [],
   "source": [
    "h=-h"
   ]
  },
  {
   "cell_type": "code",
   "execution_count": 38,
   "id": "85f867c9",
   "metadata": {},
   "outputs": [
    {
     "data": {
      "image/png": "[encoded data removed]",
      "text/plain": [
       "<Figure size 432x288 with 1 Axes>"
      ]
     },
     "metadata": {
      "needs_background": "light"
     },
     "output_type": "display_data"
    },
    {
     "data": {
      "image/png": "[encoded data removed]",
      "text/latex": [
       "$\\displaystyle - x^{2}$"
      ],
      "text/plain": [
       "  2\n",
       "-x "
      ]
     },
     "execution_count": 38,
     "metadata": {},
     "output_type": "execute_result"
    }
   ],
   "source": [
    "plot(h)\n",
    "h"
   ]
  },
  {
   "cell_type": "code",
   "execution_count": 39,
   "id": "e5cfa434",
   "metadata": {},
   "outputs": [
    {
     "data": {
      "image/png": "[encoded data removed]",
      "text/latex": [
       "$\\displaystyle x^{2}$"
      ],
      "text/plain": [
       " 2\n",
       "x "
      ]
     },
     "execution_count": 39,
     "metadata": {},
     "output_type": "execute_result"
    }
   ],
   "source": [
    "a=1\n",
    "b=0\n",
    "c=0\n",
    "h = a*x**2 + b*x +c\n",
    "h"
   ]
  },
  {
   "cell_type": "code",
   "execution_count": 40,
   "id": "65f0e46e",
   "metadata": {},
   "outputs": [
    {
     "data": {
      "image/png": "[encoded data removed]",
      "text/latex": [
       "$\\displaystyle x^{2} + 3 x + 4$"
      ],
      "text/plain": [
       " 2          \n",
       "x  + 3⋅x + 4"
      ]
     },
     "execution_count": 40,
     "metadata": {},
     "output_type": "execute_result"
    }
   ],
   "source": [
    "a=1\n",
    "b=3\n",
    "c=4\n",
    "h = a*x**2 + b*x +c\n",
    "h"
   ]
  },
  {
   "cell_type": "code",
   "execution_count": 41,
   "id": "ed586820",
   "metadata": {
    "scrolled": true
   },
   "outputs": [
    {
     "data": {
      "image/png": "[encoded data removed]",
      "text/plain": [
       "<Figure size 432x288 with 1 Axes>"
      ]
     },
     "metadata": {
      "needs_background": "light"
     },
     "output_type": "display_data"
    },
    {
     "data": {
      "image/png": "[encoded data removed]",
      "text/latex": [
       "$\\displaystyle x^{2} + 3 x + 4$"
      ],
      "text/plain": [
       " 2          \n",
       "x  + 3⋅x + 4"
      ]
     },
     "execution_count": 41,
     "metadata": {},
     "output_type": "execute_result"
    }
   ],
   "source": [
    "plot(h)\n",
    "h"
   ]
  },
  {
   "cell_type": "code",
   "execution_count": 42,
   "id": "6eb3f0cb",
   "metadata": {},
   "outputs": [
    {
     "data": {
      "image/png": "[encoded data removed]",
      "text/latex": [
       "$\\displaystyle \\left[ - \\frac{3}{2} - \\frac{\\sqrt{7} i}{2}, \\  - \\frac{3}{2} + \\frac{\\sqrt{7} i}{2}\\right]$"
      ],
      "text/plain": [
       "⎡  3   √7⋅ⅈ    3   √7⋅ⅈ⎤\n",
       "⎢- ─ - ────, - ─ + ────⎥\n",
       "⎣  2    2      2    2  ⎦"
      ]
     },
     "execution_count": 42,
     "metadata": {},
     "output_type": "execute_result"
    }
   ],
   "source": [
    "solve(h,x)"
   ]
  },
  {
   "cell_type": "code",
   "execution_count": 43,
   "id": "56651c36",
   "metadata": {},
   "outputs": [
    {
     "data": {
      "image/png": "[encoded data removed]",
      "text/latex": [
       "$\\displaystyle \\frac{x}{x + 2}$"
      ],
      "text/plain": [
       "  x  \n",
       "─────\n",
       "x + 2"
      ]
     },
     "execution_count": 43,
     "metadata": {},
     "output_type": "execute_result"
    }
   ],
   "source": [
    "q = x/(x+2)\n",
    "q"
   ]
  },
  {
   "cell_type": "code",
   "execution_count": 44,
   "id": "13a73b9a",
   "metadata": {},
   "outputs": [
    {
     "data": {
      "image/png": "[encoded data removed]",
      "text/plain": [
       "<Figure size 432x288 with 1 Axes>"
      ]
     },
     "metadata": {
      "needs_background": "light"
     },
     "output_type": "display_data"
    },
    {
     "data": {
      "text/plain": [
       "<sympy.plotting.plot.Plot at 0x20a9ba5a280>"
      ]
     },
     "execution_count": 44,
     "metadata": {},
     "output_type": "execute_result"
    }
   ],
   "source": [
    "plot(q)"
   ]
  },
  {
   "cell_type": "code",
   "execution_count": 45,
   "id": "2445b7d7",
   "metadata": {},
   "outputs": [
    {
     "data": {
      "image/png": "[encoded data removed]",
      "text/plain": [
       "<Figure size 432x288 with 1 Axes>"
      ]
     },
     "metadata": {
      "needs_background": "light"
     },
     "output_type": "display_data"
    }
   ],
   "source": [
    "fun1 = plot(q,(x,-10,-2.1), show=False)\n",
    "fun2 = plot(q,(x,-1.9,10), show=False)\n",
    "fun1.append(fun2[0])\n",
    "fun1.show()"
   ]
  },
  {
   "cell_type": "markdown",
   "id": "2c14dfd0",
   "metadata": {},
   "source": [
    "# SEMINAR11"
   ]
  },
  {
   "cell_type": "markdown",
   "id": "a8bfd139",
   "metadata": {},
   "source": [
    "### new tasks"
   ]
  },
  {
   "cell_type": "code",
   "execution_count": 46,
   "id": "6230d8a5",
   "metadata": {},
   "outputs": [
    {
     "name": "stdout",
     "output_type": "stream",
     "text": [
      "Введите коэффициенты для уравнения\n",
      "ax^2 + bx + c = 0:\n",
      "a = 10\n",
      "b = 20\n",
      "c = 30\n",
      "Дискрименант D = -800.00\n",
      "Вещественных корней нет\n"
     ]
    }
   ],
   "source": [
    "from math import sqrt\n",
    "\n",
    "print('Введите коэффициенты для уравнения')\n",
    "print('ax^2 + bx + c = 0:')\n",
    "a = float(input('a = '))\n",
    "b = float(input('b = '))\n",
    "c = float(input('c = '))\n",
    "\n",
    "discr = b**2 - 4*a*c\n",
    "print('Дискрименант D = %.2f'% discr)\n",
    "if discr > 0:\n",
    "    x1 = round((-b + sqrt(discr)) / (2*a),2)\n",
    "    x2 = round((-b - sqrt(discr)) / (2*a),2)\n",
    "    print('x1 = {} \\nx2 = {}'.format(x1,x2))\n",
    "elif discr == 0:\n",
    "    x = round(-b / (2*a),2)\n",
    "    print('x = {}'.format(x))\n",
    "else:\n",
    "    print('Вещественных корней нет')\n"
   ]
  },
  {
   "cell_type": "code",
   "execution_count": 47,
   "id": "594b2785",
   "metadata": {},
   "outputs": [
    {
     "name": "stdout",
     "output_type": "stream",
     "text": [
      "x1 = 1.65, x2 = -3.65\n",
      "min_func =  -35.0\n",
      "Вершина функции =  -1.0\n",
      "Убывание функции\n"
     ]
    },
    {
     "data": {
      "image/png": "[encoded data removed]",
      "text/plain": [
       "<Figure size 432x288 with 1 Axes>"
      ]
     },
     "metadata": {
      "needs_background": "light"
     },
     "output_type": "display_data"
    },
    {
     "name": "stdout",
     "output_type": "stream",
     "text": [
      "Возрастание функции\n"
     ]
    },
    {
     "data": {
      "image/png": "[encoded data removed]",
      "text/plain": [
       "<Figure size 432x288 with 1 Axes>"
      ]
     },
     "metadata": {
      "needs_background": "light"
     },
     "output_type": "display_data"
    },
    {
     "data": {
      "image/png": "[encoded data removed]",
      "text/plain": [
       "<Figure size 432x288 with 1 Axes>"
      ]
     },
     "metadata": {
      "needs_background": "light"
     },
     "output_type": "display_data"
    }
   ],
   "source": [
    "import matplotlib.pyplot as plt\n",
    "import numpy as np\n",
    "\n",
    "x_range = np.arange(-10, 10.01, 0.01)\n",
    "func = 5*x_range**2 + 10*x_range - 30\n",
    "a,b,c = 5,10,-30\n",
    "\n",
    "def sqr_roots(a,b,c):\n",
    "    discr = b**2 - 4*a*c \n",
    "    if discr > 0:\n",
    "        x1 = round((-b + sqrt(discr)) / (2*a),2)\n",
    "        x2 = round((-b - sqrt(discr)) / (2*a),2)\n",
    "        return (x1,x2)\n",
    "    elif discr == 0:\n",
    "        x = round(-b / (2*a),2)\n",
    "        return x\n",
    "    else:\n",
    "        return None\n",
    "print(f'x1 = {sqr_roots(a,b,c)[0]}, x2 = {sqr_roots(a,b,c)[1]}')\n",
    "\n",
    "min_func = min(func)\n",
    "print('min_func = ',min(func))\n",
    "\n",
    "x = sqr_roots(a,b,c-min_func)\n",
    "print ('Вершина функции = ',x)\n",
    "\n",
    "def change_func(range):\n",
    "    func = 5*range**2 + 10*range - 30\n",
    "    plt.plot(range,func)\n",
    "    plt.show()\n",
    "\n",
    "x_range1 = np.arange(-10,x,0.01)\n",
    "print('Убывание функции')\n",
    "change_func(x_range1)\n",
    "\n",
    "x_range2 = np.arange(x,10,0.01)\n",
    "print('Возрастание функции')\n",
    "change_func(x_range2)\n",
    "\n",
    "plt.plot(x_range,func)\n",
    "plt.plot(x,min_func,'ro')\n",
    "plt.show()\n",
    "\n"
   ]
  },
  {
   "cell_type": "code",
   "execution_count": 48,
   "id": "7bc45d55",
   "metadata": {},
   "outputs": [
    {
     "data": {
      "image/png": "[encoded data removed]",
      "text/latex": [
       "$\\displaystyle \\left[ \\right]$"
      ],
      "text/plain": [
       "[]"
      ]
     },
     "execution_count": 48,
     "metadata": {},
     "output_type": "execute_result"
    }
   ],
   "source": [
    "solve(-12*x**4*sin(cos(x)))"
   ]
  },
  {
   "cell_type": "code",
   "execution_count": 49,
   "id": "7e170072",
   "metadata": {},
   "outputs": [],
   "source": [
    "f=x**4*sin(cos(x))+x**3+x**2+x"
   ]
  },
  {
   "cell_type": "code",
   "execution_count": 50,
   "id": "8d5eda17",
   "metadata": {},
   "outputs": [
    {
     "ename": "ValueError",
     "evalue": "\nCan't calculate derivative wrt -1.00000000000000.",
     "output_type": "error",
     "traceback": [
      "\u001b[1;31m---------------------------------------------------------------------------\u001b[0m",
      "\u001b[1;31mValueError\u001b[0m                                Traceback (most recent call last)",
      "Input \u001b[1;32mIn [50]\u001b[0m, in \u001b[0;36m<cell line: 5>\u001b[1;34m()\u001b[0m\n\u001b[0;32m      1\u001b[0m \u001b[38;5;28;01mimport\u001b[39;00m \u001b[38;5;21;01msympy\u001b[39;00m \u001b[38;5;28;01mas\u001b[39;00m \u001b[38;5;21;01msp\u001b[39;00m\n\u001b[0;32m      3\u001b[0m y \u001b[38;5;241m=\u001b[39m \u001b[38;5;241m-\u001b[39m\u001b[38;5;241m12\u001b[39m\u001b[38;5;241m*\u001b[39mx\u001b[38;5;241m*\u001b[39m\u001b[38;5;241m*\u001b[39m\u001b[38;5;241m4\u001b[39m\u001b[38;5;241m*\u001b[39msp\u001b[38;5;241m.\u001b[39msin(sp\u001b[38;5;241m.\u001b[39mcos(x)) \u001b[38;5;241m-\u001b[39m \u001b[38;5;241m18\u001b[39m\u001b[38;5;241m*\u001b[39mx\u001b[38;5;241m*\u001b[39m\u001b[38;5;241m*\u001b[39m\u001b[38;5;241m3\u001b[39m\u001b[38;5;241m+\u001b[39m\u001b[38;5;241m5\u001b[39m\u001b[38;5;241m*\u001b[39mx\u001b[38;5;241m*\u001b[39m\u001b[38;5;241m*\u001b[39m\u001b[38;5;241m2\u001b[39m \u001b[38;5;241m+\u001b[39m \u001b[38;5;241m10\u001b[39m\u001b[38;5;241m*\u001b[39mx \u001b[38;5;241m-\u001b[39m \u001b[38;5;241m30\u001b[39m\n\u001b[1;32m----> 5\u001b[0m yprime \u001b[38;5;241m=\u001b[39m \u001b[43my\u001b[49m\u001b[38;5;241;43m.\u001b[39;49m\u001b[43mdiff\u001b[49m\u001b[43m(\u001b[49m\u001b[43mx\u001b[49m\u001b[43m)\u001b[49m\n\u001b[0;32m      6\u001b[0m \u001b[38;5;28mprint\u001b[39m(yprime)\n",
      "File \u001b[1;32mC:\\ProgramData\\Anaconda3\\lib\\site-packages\\sympy\\core\\expr.py:3528\u001b[0m, in \u001b[0;36mExpr.diff\u001b[1;34m(self, *symbols, **assumptions)\u001b[0m\n\u001b[0;32m   3526\u001b[0m \u001b[38;5;28;01mdef\u001b[39;00m \u001b[38;5;21mdiff\u001b[39m(\u001b[38;5;28mself\u001b[39m, \u001b[38;5;241m*\u001b[39msymbols, \u001b[38;5;241m*\u001b[39m\u001b[38;5;241m*\u001b[39massumptions):\n\u001b[0;32m   3527\u001b[0m     assumptions\u001b[38;5;241m.\u001b[39msetdefault(\u001b[38;5;124m\"\u001b[39m\u001b[38;5;124mevaluate\u001b[39m\u001b[38;5;124m\"\u001b[39m, \u001b[38;5;28;01mTrue\u001b[39;00m)\n\u001b[1;32m-> 3528\u001b[0m     \u001b[38;5;28;01mreturn\u001b[39;00m _derivative_dispatch(\u001b[38;5;28mself\u001b[39m, \u001b[38;5;241m*\u001b[39msymbols, \u001b[38;5;241m*\u001b[39m\u001b[38;5;241m*\u001b[39massumptions)\n",
      "File \u001b[1;32mC:\\ProgramData\\Anaconda3\\lib\\site-packages\\sympy\\core\\function.py:1923\u001b[0m, in \u001b[0;36m_derivative_dispatch\u001b[1;34m(expr, *variables, **kwargs)\u001b[0m\n\u001b[0;32m   1921\u001b[0m     \u001b[38;5;28;01mfrom\u001b[39;00m \u001b[38;5;21;01msympy\u001b[39;00m\u001b[38;5;21;01m.\u001b[39;00m\u001b[38;5;21;01mtensor\u001b[39;00m\u001b[38;5;21;01m.\u001b[39;00m\u001b[38;5;21;01marray\u001b[39;00m\u001b[38;5;21;01m.\u001b[39;00m\u001b[38;5;21;01marray_derivatives\u001b[39;00m \u001b[38;5;28;01mimport\u001b[39;00m ArrayDerivative\n\u001b[0;32m   1922\u001b[0m     \u001b[38;5;28;01mreturn\u001b[39;00m ArrayDerivative(expr, \u001b[38;5;241m*\u001b[39mvariables, \u001b[38;5;241m*\u001b[39m\u001b[38;5;241m*\u001b[39mkwargs)\n\u001b[1;32m-> 1923\u001b[0m \u001b[38;5;28;01mreturn\u001b[39;00m Derivative(expr, \u001b[38;5;241m*\u001b[39mvariables, \u001b[38;5;241m*\u001b[39m\u001b[38;5;241m*\u001b[39mkwargs)\n",
      "File \u001b[1;32mC:\\ProgramData\\Anaconda3\\lib\\site-packages\\sympy\\core\\function.py:1348\u001b[0m, in \u001b[0;36mDerivative.__new__\u001b[1;34m(cls, expr, *variables, **kwargs)\u001b[0m\n\u001b[0;32m   1346\u001b[0m     \u001b[38;5;28;01mif\u001b[39;00m \u001b[38;5;129;01mnot\u001b[39;00m v\u001b[38;5;241m.\u001b[39m_diff_wrt:\n\u001b[0;32m   1347\u001b[0m         __ \u001b[38;5;241m=\u001b[39m \u001b[38;5;124m'\u001b[39m\u001b[38;5;124m'\u001b[39m  \u001b[38;5;66;03m# filler to make error message neater\u001b[39;00m\n\u001b[1;32m-> 1348\u001b[0m         \u001b[38;5;28;01mraise\u001b[39;00m \u001b[38;5;167;01mValueError\u001b[39;00m(filldedent(\u001b[38;5;124m'''\u001b[39m\n\u001b[0;32m   1349\u001b[0m \u001b[38;5;124m            Can\u001b[39m\u001b[38;5;124m'\u001b[39m\u001b[38;5;124mt calculate derivative wrt \u001b[39m\u001b[38;5;132;01m%s\u001b[39;00m\u001b[38;5;124m.\u001b[39m\u001b[38;5;132;01m%s\u001b[39;00m\u001b[38;5;124m'''\u001b[39m \u001b[38;5;241m%\u001b[39m (v,\n\u001b[0;32m   1350\u001b[0m             __)))\n\u001b[0;32m   1352\u001b[0m \u001b[38;5;66;03m# We make a special case for 0th derivative, because there is no\u001b[39;00m\n\u001b[0;32m   1353\u001b[0m \u001b[38;5;66;03m# good way to unambiguously print this.\u001b[39;00m\n\u001b[0;32m   1354\u001b[0m \u001b[38;5;28;01mif\u001b[39;00m \u001b[38;5;28mlen\u001b[39m(variable_count) \u001b[38;5;241m==\u001b[39m \u001b[38;5;241m0\u001b[39m:\n",
      "\u001b[1;31mValueError\u001b[0m: \nCan't calculate derivative wrt -1.00000000000000."
     ]
    }
   ],
   "source": [
    "import sympy as sp\n",
    "\n",
    "y = -12*x**4*sp.sin(sp.cos(x)) - 18*x**3+5*x**2 + 10*x - 30\n",
    "\n",
    "yprime = y.diff(x)\n",
    "print(yprime)"
   ]
  },
  {
   "cell_type": "code",
   "execution_count": null,
   "id": "e4448219",
   "metadata": {},
   "outputs": [],
   "source": [
    "xx = solve(yprime,range(x,-10,10))"
   ]
  },
  {
   "cell_type": "code",
   "execution_count": 53,
   "id": "6f5d4029",
   "metadata": {},
   "outputs": [
    {
     "name": "stdout",
     "output_type": "stream",
     "text": [
      "hello my friend\n"
     ]
    }
   ],
   "source": [
    "def inner_func():\n",
    "        print('hello my friend')\n",
    "inner_func()"
   ]
  },
  {
   "cell_type": "code",
   "execution_count": 77,
   "id": "bed83ad5",
   "metadata": {},
   "outputs": [],
   "source": [
    "def main_func():\n",
    "    name = 'Faria'\n",
    "    def inner_func():\n",
    "        print('hello my friend,',name)\n",
    "    inner_func()"
   ]
  },
  {
   "cell_type": "code",
   "execution_count": 78,
   "id": "59ee64eb",
   "metadata": {},
   "outputs": [
    {
     "name": "stdout",
     "output_type": "stream",
     "text": [
      "hello my friend, Faria\n"
     ]
    }
   ],
   "source": [
    "a = main_func()"
   ]
  },
  {
   "cell_type": "code",
   "execution_count": 80,
   "id": "ca70e38a",
   "metadata": {},
   "outputs": [],
   "source": [
    "def main_func(value):\n",
    "    name = value\n",
    "    def inner_func():\n",
    "        print('hello my friend,',name)\n",
    "    inner_func()"
   ]
  },
  {
   "cell_type": "code",
   "execution_count": 81,
   "id": "1bd23211",
   "metadata": {},
   "outputs": [
    {
     "name": "stdout",
     "output_type": "stream",
     "text": [
      "hello my friend, Misha\n"
     ]
    }
   ],
   "source": [
    "r = main_func('Misha')"
   ]
  },
  {
   "cell_type": "code",
   "execution_count": 82,
   "id": "7b36b047",
   "metadata": {},
   "outputs": [],
   "source": [
    "def main_func(name):\n",
    "   \n",
    "    def inner_func():\n",
    "        print('hello my friend,',name)\n",
    "    inner_func()"
   ]
  },
  {
   "cell_type": "code",
   "execution_count": 83,
   "id": "ebdd7f00",
   "metadata": {},
   "outputs": [
    {
     "name": "stdout",
     "output_type": "stream",
     "text": [
      "hello my friend, Misha\n"
     ]
    }
   ],
   "source": [
    "v = main_func('Misha')"
   ]
  },
  {
   "cell_type": "code",
   "execution_count": 84,
   "id": "e9cf2e98",
   "metadata": {},
   "outputs": [],
   "source": [
    "def adder(value):\n",
    "    def inner(a):\n",
    "        return value + a\n",
    "    return inner"
   ]
  },
  {
   "cell_type": "code",
   "execution_count": 85,
   "id": "c4de6106",
   "metadata": {},
   "outputs": [],
   "source": [
    "a2 = adder(2)"
   ]
  },
  {
   "cell_type": "code",
   "execution_count": 86,
   "id": "2c3782d8",
   "metadata": {},
   "outputs": [
    {
     "data": {
      "image/png": "[encoded data removed]",
      "text/latex": [
       "$\\displaystyle 7$"
      ],
      "text/plain": [
       "7"
      ]
     },
     "execution_count": 86,
     "metadata": {},
     "output_type": "execute_result"
    }
   ],
   "source": [
    "a2(5)"
   ]
  },
  {
   "cell_type": "code",
   "execution_count": 87,
   "id": "004c76f3",
   "metadata": {},
   "outputs": [
    {
     "data": {
      "image/png": "[encoded data removed]",
      "text/latex": [
       "$\\displaystyle 12$"
      ],
      "text/plain": [
       "12"
      ]
     },
     "execution_count": 87,
     "metadata": {},
     "output_type": "execute_result"
    }
   ],
   "source": [
    "a2(10)"
   ]
  },
  {
   "cell_type": "code",
   "execution_count": 88,
   "id": "67f8a10b",
   "metadata": {},
   "outputs": [],
   "source": [
    "a5 = adder(5)"
   ]
  },
  {
   "cell_type": "code",
   "execution_count": 89,
   "id": "d50646ad",
   "metadata": {},
   "outputs": [
    {
     "data": {
      "image/png": "[encoded data removed]",
      "text/latex": [
       "$\\displaystyle 15$"
      ],
      "text/plain": [
       "15"
      ]
     },
     "execution_count": 89,
     "metadata": {},
     "output_type": "execute_result"
    }
   ],
   "source": [
    "a5(10)"
   ]
  },
  {
   "cell_type": "code",
   "execution_count": 92,
   "id": "3ad9830c",
   "metadata": {},
   "outputs": [],
   "source": [
    "def counter():\n",
    "    count = 0\n",
    "    def inner():\n",
    "        nonlocal count\n",
    "        count +=1\n",
    "        return count\n",
    "    return inner"
   ]
  },
  {
   "cell_type": "code",
   "execution_count": 93,
   "id": "aaca7e68",
   "metadata": {},
   "outputs": [],
   "source": [
    "q = counter()\n"
   ]
  },
  {
   "cell_type": "code",
   "execution_count": 94,
   "id": "f2f81ce1",
   "metadata": {},
   "outputs": [
    {
     "data": {
      "image/png": "[encoded data removed]",
      "text/latex": [
       "$\\displaystyle 1$"
      ],
      "text/plain": [
       "1"
      ]
     },
     "execution_count": 94,
     "metadata": {},
     "output_type": "execute_result"
    }
   ],
   "source": [
    "q()"
   ]
  },
  {
   "cell_type": "code",
   "execution_count": 95,
   "id": "b3d91fc9",
   "metadata": {},
   "outputs": [
    {
     "data": {
      "image/png": "[encoded data removed]",
      "text/latex": [
       "$\\displaystyle 2$"
      ],
      "text/plain": [
       "2"
      ]
     },
     "execution_count": 95,
     "metadata": {},
     "output_type": "execute_result"
    }
   ],
   "source": [
    "q()"
   ]
  },
  {
   "cell_type": "code",
   "execution_count": 96,
   "id": "fc411695",
   "metadata": {},
   "outputs": [],
   "source": [
    "r = counter()"
   ]
  },
  {
   "cell_type": "code",
   "execution_count": 97,
   "id": "6d4d194d",
   "metadata": {},
   "outputs": [
    {
     "data": {
      "image/png": "[encoded data removed]",
      "text/latex": [
       "$\\displaystyle 1$"
      ],
      "text/plain": [
       "1"
      ]
     },
     "execution_count": 97,
     "metadata": {},
     "output_type": "execute_result"
    }
   ],
   "source": [
    "r()"
   ]
  },
  {
   "cell_type": "code",
   "execution_count": 98,
   "id": "6e393f24",
   "metadata": {},
   "outputs": [
    {
     "data": {
      "image/png": "[encoded data removed]",
      "text/latex": [
       "$\\displaystyle 2$"
      ],
      "text/plain": [
       "2"
      ]
     },
     "execution_count": 98,
     "metadata": {},
     "output_type": "execute_result"
    }
   ],
   "source": [
    "r()"
   ]
  },
  {
   "cell_type": "code",
   "execution_count": 108,
   "id": "62e4fe12",
   "metadata": {},
   "outputs": [],
   "source": [
    "def multiply(value):\n",
    "    def inner(a):\n",
    "        return value * a\n",
    "    return inner"
   ]
  },
  {
   "cell_type": "code",
   "execution_count": 109,
   "id": "5e8bd4a8",
   "metadata": {},
   "outputs": [],
   "source": [
    "f_2 = multiply(2)"
   ]
  },
  {
   "cell_type": "code",
   "execution_count": 110,
   "id": "8e43a833",
   "metadata": {},
   "outputs": [
    {
     "name": "stdout",
     "output_type": "stream",
     "text": [
      "Умножение 2 на 5 = 10\n"
     ]
    }
   ],
   "source": [
    "print(\"Умножение 2 на 5 =\", f_2(5))"
   ]
  },
  {
   "cell_type": "code",
   "execution_count": 111,
   "id": "da9d83c7",
   "metadata": {},
   "outputs": [
    {
     "name": "stdout",
     "output_type": "stream",
     "text": [
      "Умножение 2 на 15 = 30\n"
     ]
    }
   ],
   "source": [
    "print(\"Умножение 2 на 15 =\", f_2(15))"
   ]
  },
  {
   "cell_type": "code",
   "execution_count": 112,
   "id": "8f37cb43",
   "metadata": {},
   "outputs": [],
   "source": [
    "f_3 = multiply(3)"
   ]
  },
  {
   "cell_type": "code",
   "execution_count": 113,
   "id": "baa91ec1",
   "metadata": {},
   "outputs": [
    {
     "name": "stdout",
     "output_type": "stream",
     "text": [
      "Умножение 3 на 5 = 15\n",
      "Умножение 3 на 15 = 45\n"
     ]
    }
   ],
   "source": [
    "print(\"Умножение 3 на 5 =\", f_3(5))\n",
    "print(\"Умножение 3 на 15 =\", f_3(15))"
   ]
  },
  {
   "cell_type": "code",
   "execution_count": 122,
   "id": "946b630b",
   "metadata": {},
   "outputs": [],
   "source": [
    "def average_numbers():\n",
    "    numbers = []\n",
    "    def inner(number):\n",
    "        numbers.append(number)\n",
    "        print(numbers)\n",
    "        return sum(numbers)/len(numbers)\n",
    "    return inner"
   ]
  },
  {
   "cell_type": "code",
   "execution_count": 123,
   "id": "12e8fccc",
   "metadata": {},
   "outputs": [],
   "source": [
    "r1 = average_numbers()"
   ]
  },
  {
   "cell_type": "code",
   "execution_count": 124,
   "id": "bb77a17f",
   "metadata": {},
   "outputs": [
    {
     "name": "stdout",
     "output_type": "stream",
     "text": [
      "[5]\n"
     ]
    },
    {
     "data": {
      "image/png": "[encoded data removed]",
      "text/latex": [
       "$\\displaystyle 5.0$"
      ],
      "text/plain": [
       "5.0"
      ]
     },
     "execution_count": 124,
     "metadata": {},
     "output_type": "execute_result"
    }
   ],
   "source": [
    "r1(5)"
   ]
  },
  {
   "cell_type": "code",
   "execution_count": 125,
   "id": "21570793",
   "metadata": {},
   "outputs": [
    {
     "name": "stdout",
     "output_type": "stream",
     "text": [
      "[5, 13]\n"
     ]
    },
    {
     "data": {
      "image/png": "[encoded data removed]",
      "text/latex": [
       "$\\displaystyle 9.0$"
      ],
      "text/plain": [
       "9.0"
      ]
     },
     "execution_count": 125,
     "metadata": {},
     "output_type": "execute_result"
    }
   ],
   "source": [
    "r1(13)"
   ]
  },
  {
   "cell_type": "code",
   "execution_count": 132,
   "id": "0e8908e6",
   "metadata": {},
   "outputs": [],
   "source": [
    "def average_numbers():\n",
    "    summa = 0\n",
    "    count = 0\n",
    "    def inner(number):\n",
    "        nonlocal summa\n",
    "        nonlocal count\n",
    "        summa = summa + number\n",
    "        count +=1\n",
    "        return summa/count\n",
    "    return inner"
   ]
  },
  {
   "cell_type": "code",
   "execution_count": 133,
   "id": "33bdb192",
   "metadata": {},
   "outputs": [],
   "source": [
    "k = average_numbers()"
   ]
  },
  {
   "cell_type": "code",
   "execution_count": 134,
   "id": "80272151",
   "metadata": {},
   "outputs": [
    {
     "data": {
      "image/png": "[encoded data removed]",
      "text/latex": [
       "$\\displaystyle 5.0$"
      ],
      "text/plain": [
       "5.0"
      ]
     },
     "execution_count": 134,
     "metadata": {},
     "output_type": "execute_result"
    }
   ],
   "source": [
    "k(5)"
   ]
  },
  {
   "cell_type": "code",
   "execution_count": 135,
   "id": "9c44efdd",
   "metadata": {},
   "outputs": [
    {
     "data": {
      "image/png": "[encoded data removed]",
      "text/latex": [
       "$\\displaystyle 12.5$"
      ],
      "text/plain": [
       "12.5"
      ]
     },
     "execution_count": 135,
     "metadata": {},
     "output_type": "execute_result"
    }
   ],
   "source": [
    "k(20)"
   ]
  },
  {
   "cell_type": "code",
   "execution_count": 146,
   "id": "4ba0f086",
   "metadata": {},
   "outputs": [],
   "source": [
    "from datetime import datetime\n",
    "from time import perf_counter\n",
    "\n",
    "def timer():\n",
    "    start = perf_counter()\n",
    "    \n",
    "    def inner():\n",
    "        return perf_counter() - start\n",
    "    return inner"
   ]
  },
  {
   "cell_type": "code",
   "execution_count": 147,
   "id": "9ee24022",
   "metadata": {},
   "outputs": [],
   "source": [
    "r = timer()"
   ]
  },
  {
   "cell_type": "code",
   "execution_count": 148,
   "id": "16716a4c",
   "metadata": {},
   "outputs": [
    {
     "data": {
      "image/png": "[encoded data removed]",
      "text/latex": [
       "$\\displaystyle 0.37942060000023$"
      ],
      "text/plain": [
       "0.3794206000002305"
      ]
     },
     "execution_count": 148,
     "metadata": {},
     "output_type": "execute_result"
    }
   ],
   "source": [
    "r()"
   ]
  },
  {
   "cell_type": "code",
   "execution_count": 149,
   "id": "8dee0ae5",
   "metadata": {},
   "outputs": [
    {
     "data": {
      "image/png": "[encoded data removed]",
      "text/latex": [
       "$\\displaystyle 1.32426540000006$"
      ],
      "text/plain": [
       "1.3242654000000584"
      ]
     },
     "execution_count": 149,
     "metadata": {},
     "output_type": "execute_result"
    }
   ],
   "source": [
    "r()"
   ]
  },
  {
   "cell_type": "code",
   "execution_count": 150,
   "id": "10309cb6",
   "metadata": {},
   "outputs": [
    {
     "data": {
      "image/png": "[encoded data removed]",
      "text/latex": [
       "$\\displaystyle 35.6581676000001$"
      ],
      "text/plain": [
       "35.65816760000007"
      ]
     },
     "execution_count": 150,
     "metadata": {},
     "output_type": "execute_result"
    }
   ],
   "source": [
    "r()"
   ]
  },
  {
   "cell_type": "code",
   "execution_count": 156,
   "id": "6110a95b",
   "metadata": {},
   "outputs": [],
   "source": [
    "def add(a,b):\n",
    "    return a+b\n",
    "def counter (func):\n",
    "    count = 0\n",
    "    def inner(*args,**kwargs):\n",
    "        nonlocal count\n",
    "        count +=1\n",
    "        print(f'функция {func.__name__} вызывалась {count} раз')\n",
    "        return func(*args,**kwargs)\n",
    "    return inner\n",
    "    "
   ]
  },
  {
   "cell_type": "code",
   "execution_count": 157,
   "id": "818dee4e",
   "metadata": {},
   "outputs": [],
   "source": [
    "q = counter(add)"
   ]
  },
  {
   "cell_type": "code",
   "execution_count": 158,
   "id": "7c7c20f9",
   "metadata": {},
   "outputs": [
    {
     "name": "stdout",
     "output_type": "stream",
     "text": [
      "функция add вызывалась 1 раз\n"
     ]
    },
    {
     "data": {
      "image/png": "[encoded data removed]",
      "text/latex": [
       "$\\displaystyle 30$"
      ],
      "text/plain": [
       "30"
      ]
     },
     "execution_count": 158,
     "metadata": {},
     "output_type": "execute_result"
    }
   ],
   "source": [
    "q(10,20)"
   ]
  },
  {
   "cell_type": "code",
   "execution_count": 159,
   "id": "a1d9fc93",
   "metadata": {},
   "outputs": [
    {
     "name": "stdout",
     "output_type": "stream",
     "text": [
      "функция add вызывалась 2 раз\n"
     ]
    },
    {
     "data": {
      "image/png": "[encoded data removed]",
      "text/latex": [
       "$\\displaystyle 7$"
      ],
      "text/plain": [
       "7"
      ]
     },
     "execution_count": 159,
     "metadata": {},
     "output_type": "execute_result"
    }
   ],
   "source": [
    "q(4,3)"
   ]
  },
  {
   "cell_type": "code",
   "execution_count": 160,
   "id": "cc178cbb",
   "metadata": {},
   "outputs": [],
   "source": [
    "def mult(a,b,c):\n",
    "    return a*b*c"
   ]
  },
  {
   "cell_type": "code",
   "execution_count": 161,
   "id": "335989ab",
   "metadata": {},
   "outputs": [],
   "source": [
    "d = counter(mult)"
   ]
  },
  {
   "cell_type": "code",
   "execution_count": 162,
   "id": "e0a3ab3b",
   "metadata": {},
   "outputs": [
    {
     "name": "stdout",
     "output_type": "stream",
     "text": [
      "функция mult вызывалась 1 раз\n"
     ]
    },
    {
     "data": {
      "image/png": "[encoded data removed]",
      "text/latex": [
       "$\\displaystyle 140$"
      ],
      "text/plain": [
       "140"
      ]
     },
     "execution_count": 162,
     "metadata": {},
     "output_type": "execute_result"
    }
   ],
   "source": [
    "d(2,5,14)"
   ]
  },
  {
   "cell_type": "code",
   "execution_count": 169,
   "id": "11ac7658",
   "metadata": {},
   "outputs": [],
   "source": [
    "def decorator(func):\n",
    "    def inner():\n",
    "        print('start decorator')\n",
    "        func()\n",
    "        print('finish decorator')\n",
    "    return inner\n",
    "def say():\n",
    "    print('hello world')\n",
    "    \n",
    "def buy():\n",
    "    print('buy world')"
   ]
  },
  {
   "cell_type": "code",
   "execution_count": 170,
   "id": "9eddab8d",
   "metadata": {},
   "outputs": [],
   "source": [
    "d = decorator(say)"
   ]
  },
  {
   "cell_type": "code",
   "execution_count": 171,
   "id": "4d6b9ccb",
   "metadata": {},
   "outputs": [
    {
     "name": "stdout",
     "output_type": "stream",
     "text": [
      "start decorator\n",
      "hello world\n",
      "finish decorator\n"
     ]
    }
   ],
   "source": [
    "d()"
   ]
  },
  {
   "cell_type": "code",
   "execution_count": 172,
   "id": "f99f0ea1",
   "metadata": {},
   "outputs": [],
   "source": [
    "say = decorator(say)"
   ]
  },
  {
   "cell_type": "code",
   "execution_count": 173,
   "id": "70a31f0a",
   "metadata": {},
   "outputs": [
    {
     "name": "stdout",
     "output_type": "stream",
     "text": [
      "start decorator\n",
      "hello world\n",
      "finish decorator\n"
     ]
    }
   ],
   "source": [
    "say()"
   ]
  },
  {
   "cell_type": "code",
   "execution_count": 174,
   "id": "41f11560",
   "metadata": {},
   "outputs": [
    {
     "name": "stdout",
     "output_type": "stream",
     "text": [
      "<function decorator.<locals>.inner at 0x0000020A9EC8B9D0>\n",
      "The history saving thread hit an unexpected error (OperationalError('database or disk is full')).History will not be written to the database.\n"
     ]
    }
   ],
   "source": [
    "print(say)"
   ]
  },
  {
   "cell_type": "code",
   "execution_count": 175,
   "id": "6be9f5b6",
   "metadata": {},
   "outputs": [],
   "source": [
    "buy = decorator(buy)"
   ]
  },
  {
   "cell_type": "code",
   "execution_count": 176,
   "id": "47fdaadf",
   "metadata": {},
   "outputs": [
    {
     "name": "stdout",
     "output_type": "stream",
     "text": [
      "start decorator\n",
      "buy world\n",
      "finish decorator\n"
     ]
    }
   ],
   "source": [
    "buy()"
   ]
  },
  {
   "cell_type": "code",
   "execution_count": null,
   "id": "01401959",
   "metadata": {},
   "outputs": [],
   "source": []
  }
 ],
 "metadata": {
  "kernelspec": {
   "display_name": "Python 3 (ipykernel)",
   "language": "python",
   "name": "python3"
  },
  "language_info": {
   "codemirror_mode": {
    "name": "ipython",
    "version": 3
   },
   "file_extension": ".py",
   "mimetype": "text/x-python",
   "name": "python",
   "nbconvert_exporter": "python",
   "pygments_lexer": "ipython3",
   "version": "3.9.12"
  }
 },
 "nbformat": 4,
 "nbformat_minor": 5
}
